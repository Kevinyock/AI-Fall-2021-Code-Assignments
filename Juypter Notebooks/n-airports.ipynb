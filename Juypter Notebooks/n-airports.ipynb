{
  "nbformat": 4,
  "nbformat_minor": 0,
  "metadata": {
    "kernelspec": {
      "display_name": "Python 3",
      "language": "python",
      "name": "python3"
    },
    "language_info": {
      "codemirror_mode": {
        "name": "ipython",
        "version": 3
      },
      "file_extension": ".py",
      "mimetype": "text/x-python",
      "name": "python",
      "nbconvert_exporter": "python",
      "pygments_lexer": "ipython3",
      "version": "3.8.11"
    },
    "colab": {
      "name": "n-airports.ipynb",
      "provenance": [],
      "collapsed_sections": []
    }
  },
  "cells": [
    {
      "cell_type": "code",
      "metadata": {
        "colab": {
          "base_uri": "https://localhost:8080/",
          "height": 282
        },
        "id": "izWWSAc3Tyuh",
        "outputId": "233d21d1-528e-419d-8c00-12eda917943a"
      },
      "source": [
        "import random\n",
        "import numpy as np\n",
        "\n",
        "num_city = 100\n",
        "num_air = 3\n",
        "num_center = 5\n",
        "sigma = 0.1\n",
        "cities = set()\n",
        "airports = []\n",
        "\n",
        "for i in range(num_center):\n",
        "    x = random.random()\n",
        "    y = random.random()\n",
        "    xc = np.random.normal(x, sigma, num_city//num_center)\n",
        "    yc = np.random.normal(y, sigma, num_city//num_center)\n",
        "    cities = cities.union(zip(xc, yc))\n",
        "\n",
        "\n",
        "for i in range(num_air):\n",
        "    x = random.random()\n",
        "    y = random.random()\n",
        "    airports.append((x,y)) \n",
        "\n",
        "import matplotlib.pyplot as plt\n",
        "\n",
        "zip_cities = zip(*cities)\n",
        "plt.scatter(*zip_cities, marker='+',color='b', label='Cities')\n",
        "zip_airs = zip(*airports)\n",
        "plt.scatter(*zip_airs, marker='*', color='r', s=100, label='Airports')\n",
        "plt.legend()\n",
        "plt"
      ],
      "execution_count": 571,
      "outputs": [
        {
          "output_type": "execute_result",
          "data": {
            "text/plain": [
              "<module 'matplotlib.pyplot' from '/usr/local/lib/python3.7/dist-packages/matplotlib/pyplot.py'>"
            ]
          },
          "metadata": {},
          "execution_count": 571
        },
        {
          "output_type": "display_data",
          "data": {
            "image/png": "[encoded data removed]",
            "text/plain": [
              "<Figure size 432x288 with 1 Axes>"
            ]
          },
          "metadata": {
            "needs_background": "light"
          }
        }
      ]
    },
    {
      "cell_type": "code",
      "metadata": {
        "id": "2NYCfb47PTkC"
      },
      "source": [
        "def initialize_list_of_airports(num_air):\n",
        "  listOfAirports = []\n",
        "\n",
        "  for val in range(num_air):\n",
        "    listOfAirports.append([])\n",
        "    \n",
        "  return listOfAirports\n",
        "\n",
        "# Calculate the straight line distance from each city to the airports and assign it to it nearest airport\n",
        "def calculate_StraightLineDistance(setOfCities,listOfAirports,AirportNearestCities):\n",
        "  cityNum = 0\n",
        "  for eachCity in setOfCities:\n",
        "    cityNum = cityNum + 1\n",
        "    StraightDistancePerAirport = []\n",
        "    \n",
        "    for eachAirport in listOfAirports: #Give me the distance this city to all of my airports\n",
        "      xDistance = (eachAirport[0] - eachCity[0]) ** 2\n",
        "      yDistance = (eachAirport[1] - eachCity[1]) ** 2\n",
        "      squaredDistance = xDistance + yDistance\n",
        "      StraightDistancePerAirport.append(squaredDistance)\n",
        "      \n",
        "    airportNum = 0\n",
        "    lowestDistance = math.inf\n",
        "    for eachDistance in StraightDistancePerAirport:\n",
        "      if(eachDistance < lowestDistance):\n",
        "        lowestDistance = eachDistance\n",
        "        airportNum = StraightDistancePerAirport.index(lowestDistance)\n",
        "    \n",
        "    AirportNearestCities[airportNum].append(eachCity)\n",
        "    #print(lowestDistance,\"#\", cityNum,airportNum)\n",
        "\n",
        "  #Return a set of nearby cities to that specific airport\n",
        "  return AirportNearestCities\n",
        "\n",
        "def calculate_ObjectiveFunction(AirportNearestCities,listOfAirports):\n",
        "  ObjectiveFunction = 0.0\n",
        "\n",
        "  #Sum of all of the airports\n",
        "  for airportNum in range(len(listOfAirports)):\n",
        "    airportX = listOfAirports[airportNum][0]\n",
        "    airportY = listOfAirports[airportNum][1]\n",
        "    #print(\"Airport #\", airportNum + 1)\n",
        "    #print(\"X\",airportX,\"Y\",airportY)\n",
        "    for cityNum in AirportNearestCities[airportNum]:\n",
        "      CityX = cityNum[0]\n",
        "      CityY = cityNum[1]\n",
        "      #print(\"X\",CityX,\"Y\",CityY)\n",
        "      ObjectiveFunction = ObjectiveFunction + ((airportX - CityX) ** 2) + ((airportY - CityY) ** 2)\n",
        "\n",
        "  return ObjectiveFunction\n",
        "\n",
        "#Axis: 0 for X, 1 for Y\n",
        "def sumOfAllDistanceinAxis(airport,ListOfNearbyCities,Axis):\n",
        "  #print(airport[Axis])\n",
        "  totalDistance = 0.0\n",
        "  for eachCity in ListOfNearbyCities:\n",
        "    totalDistance = totalDistance + (airport[Axis] - eachCity[Axis])\n",
        "  \n",
        "  totalDistance = totalDistance * 2\n",
        "  return totalDistance\n",
        "  \n",
        "def Gradient(airports,alpha,CurrentAirportNearestCities):\n",
        "\n",
        "  # Possible New Airport Coordinates for each airport\n",
        "  for airportNum in range(len(airports)):\n",
        "\n",
        "    #print(\"Airport Coord:\",airports[airportNum])\n",
        "    #print(\"Original Coord\", airports[airportNum][0],airports[airportNum][1])\n",
        "\n",
        "    totalXDistance = alpha * sumOfAllDistanceinAxis(airports[airportNum],CurrentAirportNearestCities[airportNum],0)\n",
        "    totalYDistance = alpha * sumOfAllDistanceinAxis(airports[airportNum],CurrentAirportNearestCities[airportNum],1)\n",
        "\n",
        "    #print(\"X Distance:\", totalXDistance,\"Y Distance: \", totalYDistance)\n",
        "\n",
        "    airports[airportNum] = update_airport_position(airports[airportNum],totalXDistance,totalYDistance)\n",
        "  \n",
        "  return airports\n",
        "\n",
        "def update_airport_position(airport,X,Y):\n",
        "  #print(\"Old Airport Position\",airport[0],airport[1])\n",
        "  airport = (airport[0] - X, airport[1] - Y)\n",
        "  #print(\"New Airport Position\",airport[0],airport[1])\n",
        "  return airport\n"
      ],
      "execution_count": 572,
      "outputs": []
    },
    {
      "cell_type": "code",
      "metadata": {
        "id": "Ughx3prhTyum"
      },
      "source": [
        "import math\n",
        "\n",
        "# Gradient Optimization take in the airport and the cities\n",
        "def gradientOptimization(airports,cities,iteration,alpha):\n",
        "\n",
        "  ObjectiveFunctionList = []\n",
        "\n",
        "  # 0 < learningRate(alpha) << 0\n",
        "  \n",
        "  for eachIteration in range(iteration):\n",
        "\n",
        "    #StraightDistPerAirport[Airport Num][City Num]\n",
        "    StraightDistPerAirport = initialize_list_of_airports(len(airports))\n",
        "\n",
        "    CurrentAirportNearestCities = initialize_list_of_airports(len(airports))\n",
        "\n",
        "    #### Group  the cities with closet airport\n",
        "    CurrentAirportNearestCities = calculate_StraightLineDistance(cities,airports,CurrentAirportNearestCities)\n",
        "\n",
        "    #Get me the current Gradient Function\n",
        "    CurrentObjectiveFunction = calculate_ObjectiveFunction(CurrentAirportNearestCities,airports)\n",
        "\n",
        "    ObjectiveFunctionList.append(CurrentObjectiveFunction)\n",
        "\n",
        "    # Gradient Section\n",
        "\n",
        "    airports = Gradient(airports,alpha,CurrentAirportNearestCities)\n",
        "\n",
        "    # Gradient Section\n",
        "\n",
        "  return airports, ObjectiveFunctionList\n",
        "\n",
        "ObjectiveFunctionList = []\n",
        "\n",
        "numOfIteration = 15\n",
        "alpha = .005\n",
        "\n",
        "airports, ObjectiveFunctionList = gradientOptimization(airports,cities,numOfIteration,alpha)\n",
        "\n",
        "#print(ObjectiveFunctionList)\n",
        "\n"
      ],
      "execution_count": 573,
      "outputs": []
    },
    {
      "cell_type": "code",
      "metadata": {
        "id": "9WILeP8mauJZ",
        "colab": {
          "base_uri": "https://localhost:8080/",
          "height": 282
        },
        "outputId": "9f9475d0-4451-4439-99c5-98066786a575"
      },
      "source": [
        "zip_cities = zip(*cities)\n",
        "plt.scatter(*zip_cities, marker='+',color='b', label='Cities')\n",
        "zip_airs = zip(*airports)\n",
        "plt.scatter(*zip_airs, marker='*', color='r', s=100, label='Airports')\n",
        "plt.legend()\n",
        "plt"
      ],
      "execution_count": 574,
      "outputs": [
        {
          "output_type": "execute_result",
          "data": {
            "text/plain": [
              "<module 'matplotlib.pyplot' from '/usr/local/lib/python3.7/dist-packages/matplotlib/pyplot.py'>"
            ]
          },
          "metadata": {},
          "execution_count": 574
        },
        {
          "output_type": "display_data",
          "data": {
            "image/png": "[encoded data removed]",
            "text/plain": [
              "<Figure size 432x288 with 1 Axes>"
            ]
          },
          "metadata": {
            "needs_background": "light"
          }
        }
      ]
    },
    {
      "cell_type": "code",
      "metadata": {
        "colab": {
          "base_uri": "https://localhost:8080/",
          "height": 312
        },
        "id": "v3lp64VooNz1",
        "outputId": "04c960cb-ba65-473e-b6af-f39b05cbcb31"
      },
      "source": [
        "plt.xlim([-1,18])\n",
        "plt.ylim([int(min(ObjectiveFunctionList))- 1,int(max(ObjectiveFunctionList)) + 2])\n",
        "plt.plot(range(0,numOfIteration),ObjectiveFunctionList,'o')\n",
        "plt.xticks([0,2.5,5.0,7.5,10.0,12.5,15.0,17.5])\n",
        "plt.title(\"Objective Function as a function\")\n",
        "plt.xlabel(\"Number of iterations\")\n",
        "plt.ylabel(\"Objective\")\n",
        "#plt.yticks(range(15,35,2.5))\n",
        "plt"
      ],
      "execution_count": 575,
      "outputs": [
        {
          "output_type": "execute_result",
          "data": {
            "text/plain": [
              "<module 'matplotlib.pyplot' from '/usr/local/lib/python3.7/dist-packages/matplotlib/pyplot.py'>"
            ]
          },
          "metadata": {},
          "execution_count": 575
        },
        {
          "output_type": "display_data",
          "data": {
            "image/png": "[encoded data removed]",
            "text/plain": [
              "<Figure size 432x288 with 1 Axes>"
            ]
          },
          "metadata": {
            "needs_background": "light"
          }
        }
      ]
    }
  ]
}